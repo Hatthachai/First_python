{
  "nbformat": 4,
  "nbformat_minor": 0,
  "metadata": {
    "colab": {
      "provenance": []
    },
    "kernelspec": {
      "name": "python3",
      "display_name": "Python 3"
    },
    "language_info": {
      "name": "python"
    }
  },
  "cells": [
    {
      "cell_type": "code",
      "source": [],
      "metadata": {
        "id": "tgC5tDqeOnr4"
      },
      "execution_count": null,
      "outputs": []
    },
    {
      "cell_type": "markdown",
      "source": [
        "Today we are learning python\n",
        "\n",
        "- variables\n",
        "- data type\n",
        "- data structures\n",
        "- function\n",
        "- control flow\n",
        "- OOP"
      ],
      "metadata": {
        "id": "vodBU5hcQV5V"
      }
    },
    {
      "cell_type": "code",
      "source": [
        "# assign a variable\n",
        "my_name = \"Bank\"\n",
        "age = 35\n",
        "gpa = 3.86\n",
        "movie_lover = True # False\""
      ],
      "metadata": {
        "id": "3t4Pytn5Orti"
      },
      "execution_count": null,
      "outputs": []
    },
    {
      "cell_type": "code",
      "source": [
        "# case sensitive\n",
        "print(age, gpa, movie_lover, my_name)"
      ],
      "metadata": {
        "colab": {
          "base_uri": "https://localhost:8080/"
        },
        "id": "2v6qAihaQKT0",
        "outputId": "5ddc79d9-2118-4fe8-ec21-a4835d50b061"
      },
      "execution_count": null,
      "outputs": [
        {
          "output_type": "stream",
          "name": "stdout",
          "text": [
            "35 3.86 True Bank\n"
          ]
        }
      ]
    },
    {
      "cell_type": "code",
      "source": [
        "# over write a value\n",
        "age = 40\n",
        "new_age = age - 12\n",
        "print(age, new_age)"
      ],
      "metadata": {
        "colab": {
          "base_uri": "https://localhost:8080/"
        },
        "id": "9yKfIm3dQyOy",
        "outputId": "1d2278cf-7b21-450d-93c2-b455be0fbb2d"
      },
      "execution_count": null,
      "outputs": [
        {
          "output_type": "stream",
          "name": "stdout",
          "text": [
            "40 28\n"
          ]
        }
      ]
    },
    {
      "cell_type": "code",
      "source": [
        "s23_price = 30000\n",
        "discount = 0.15 # 0.15 = 15/100\n",
        "new_s23_price = s23_price * (1-discount)\n",
        "\n",
        "print(new_s23_price)"
      ],
      "metadata": {
        "colab": {
          "base_uri": "https://localhost:8080/"
        },
        "id": "fdXbR__vRdu9",
        "outputId": "e17939e2-2715-49c0-bdbe-c8bc53066549"
      },
      "execution_count": null,
      "outputs": [
        {
          "output_type": "stream",
          "name": "stdout",
          "text": [
            "25500.0\n"
          ]
        }
      ]
    },
    {
      "cell_type": "code",
      "source": [
        "# remove variable\n",
        "del new_s23_price"
      ],
      "metadata": {
        "id": "NYcZ6Wx3SQ0l"
      },
      "execution_count": null,
      "outputs": []
    },
    {
      "cell_type": "code",
      "source": [
        "# count variable\n",
        "age = 34\n",
        "age += 1\n",
        "age += 1\n",
        "age -= 1\n",
        "print(age)"
      ],
      "metadata": {
        "colab": {
          "base_uri": "https://localhost:8080/"
        },
        "id": "udIgavf6TPHU",
        "outputId": "0ea93809-10b0-4b67-87f7-de90c3b9d4a4"
      },
      "execution_count": null,
      "outputs": [
        {
          "output_type": "stream",
          "name": "stdout",
          "text": [
            "35\n"
          ]
        }
      ]
    },
    {
      "cell_type": "code",
      "source": [
        "# data types\n",
        "# int float str bool"
      ],
      "metadata": {
        "id": "wcyHGki6TkAl"
      },
      "execution_count": null,
      "outputs": []
    },
    {
      "cell_type": "code",
      "source": [
        "age = 34\n",
        "gps = 3.86\n",
        "school = \"Ramkamhang\"\n",
        "movie_lover = True"
      ],
      "metadata": {
        "id": "ETjb_OAVUJyq"
      },
      "execution_count": null,
      "outputs": []
    },
    {
      "cell_type": "code",
      "source": [
        "# check data types\n",
        "print( type(age) )\n",
        "print( type(gpa) )\n",
        "print( type(school) )\n",
        "print( type(movie_lover) )"
      ],
      "metadata": {
        "colab": {
          "base_uri": "https://localhost:8080/"
        },
        "id": "y2LhpZMXUou6",
        "outputId": "c92e450e-47a5-4cd6-d5b9-387c767d6994"
      },
      "execution_count": null,
      "outputs": [
        {
          "output_type": "stream",
          "name": "stdout",
          "text": [
            "<class 'int'>\n",
            "<class 'float'>\n",
            "<class 'str'>\n",
            "<class 'bool'>\n"
          ]
        }
      ]
    },
    {
      "cell_type": "code",
      "source": [
        "# convert type\n",
        "x = 100\n",
        "x = str(x)\n",
        "print(x, type(x))"
      ],
      "metadata": {
        "colab": {
          "base_uri": "https://localhost:8080/"
        },
        "id": "b6OsoUvcVLiN",
        "outputId": "12ae250f-aa4e-4183-915f-3967915059d9"
      },
      "execution_count": null,
      "outputs": [
        {
          "output_type": "stream",
          "name": "stdout",
          "text": [
            "100 <class 'str'>\n"
          ]
        }
      ]
    },
    {
      "cell_type": "code",
      "source": [
        "y = False #T=1, F=0\n",
        "y = int(y)\n",
        "print(y, type(y))"
      ],
      "metadata": {
        "colab": {
          "base_uri": "https://localhost:8080/"
        },
        "id": "5bknORXYV0mE",
        "outputId": "b4e9ddc6-c04e-46fc-99aa-a3e1f3f019e7"
      },
      "execution_count": null,
      "outputs": [
        {
          "output_type": "stream",
          "name": "stdout",
          "text": [
            "0 <class 'int'>\n"
          ]
        }
      ]
    },
    {
      "cell_type": "code",
      "source": [
        "z = 1\n",
        "z = bool(z)\n",
        "print(z, type(z))"
      ],
      "metadata": {
        "colab": {
          "base_uri": "https://localhost:8080/"
        },
        "id": "DQzLkwOoWY0s",
        "outputId": "d8feb4cc-a6ae-4bfc-c0bf-5250b597db95"
      },
      "execution_count": null,
      "outputs": [
        {
          "output_type": "stream",
          "name": "stdout",
          "text": [
            "True <class 'bool'>\n"
          ]
        }
      ]
    },
    {
      "cell_type": "code",
      "source": [
        "text = \"I'm learning python\"\n",
        "text2 = '\"hahaha\"'\n",
        "print(text, text2)"
      ],
      "metadata": {
        "colab": {
          "base_uri": "https://localhost:8080/"
        },
        "id": "bT63CvInWnin",
        "outputId": "909fc52e-cf8a-4973-f2c4-8642b277dbdb"
      },
      "execution_count": null,
      "outputs": [
        {
          "output_type": "stream",
          "name": "stdout",
          "text": [
            "I'm learning python \"hahaha\"\n"
          ]
        }
      ]
    },
    {
      "cell_type": "code",
      "source": [
        "text = \"hello\"\n",
        "text + text"
      ],
      "metadata": {
        "colab": {
          "base_uri": "https://localhost:8080/",
          "height": 34
        },
        "id": "ENI-V3sgXRWM",
        "outputId": "d3e8c2fe-a575-466f-e00a-569931ad226c"
      },
      "execution_count": null,
      "outputs": [
        {
          "output_type": "execute_result",
          "data": {
            "text/plain": [
              "'hellohello'"
            ],
            "application/vnd.google.colaboratory.intrinsic+json": {
              "type": "string"
            }
          },
          "metadata": {},
          "execution_count": 42
        }
      ]
    },
    {
      "cell_type": "code",
      "source": [
        "# type hint\n",
        "age: int = \"35\"\n",
        "my_name: str = \"bank\"\n",
        "gpa: float = 3.86\n",
        "saefood: bool = True"
      ],
      "metadata": {
        "id": "i-kuyi-aXtXU"
      },
      "execution_count": null,
      "outputs": []
    },
    {
      "cell_type": "code",
      "source": [
        "print(age, type(age))"
      ],
      "metadata": {
        "colab": {
          "base_uri": "https://localhost:8080/"
        },
        "id": "10-vj2V4YvSW",
        "outputId": "20f01396-f2ab-478b-87db-53fc141049b0"
      },
      "execution_count": null,
      "outputs": [
        {
          "output_type": "stream",
          "name": "stdout",
          "text": [
            "35 <class 'str'>\n"
          ]
        }
      ]
    },
    {
      "cell_type": "code",
      "source": [
        "# function\n",
        "print(\"hello\", \"world\")\n",
        "print(pow(5, 2 ), abs(-5))"
      ],
      "metadata": {
        "id": "3nkeJpf9ZA1x",
        "colab": {
          "base_uri": "https://localhost:8080/"
        },
        "outputId": "b9f84dfd-ae07-456c-b9c0-1a0a818ac034"
      },
      "execution_count": null,
      "outputs": [
        {
          "output_type": "stream",
          "name": "stdout",
          "text": [
            "hello world\n",
            "25 5\n"
          ]
        }
      ]
    },
    {
      "cell_type": "code",
      "source": [
        "# greeting()\n",
        "def greeting(name=\"bank\", location=\"London\"):\n",
        "        print(\"hello! \" + name)\n",
        "        print(\"He is in \" + location)"
      ],
      "metadata": {
        "id": "n2ZcN4nAUHTN"
      },
      "execution_count": null,
      "outputs": []
    },
    {
      "cell_type": "code",
      "source": [
        "greeting(\"Wick\", \"Tokyo\")"
      ],
      "metadata": {
        "colab": {
          "base_uri": "https://localhost:8080/"
        },
        "id": "QBgcRNxGUcld",
        "outputId": "cda83728-2230-497e-e46e-b003d0819e74"
      },
      "execution_count": null,
      "outputs": [
        {
          "output_type": "stream",
          "name": "stdout",
          "text": [
            "hello! Wick\n",
            "He is in Tokyo\n"
          ]
        }
      ]
    },
    {
      "cell_type": "code",
      "source": [
        "def add_two_nums(num1, num2):\n",
        "        print(\"hello\")\n",
        "        print(\"Done!\")\n",
        "        return num1 + num2"
      ],
      "metadata": {
        "id": "Vvl0Sho2Ugcv"
      },
      "execution_count": null,
      "outputs": []
    },
    {
      "cell_type": "code",
      "source": [
        "result = add_two_nums(5, 20)\n",
        "print(result)"
      ],
      "metadata": {
        "colab": {
          "base_uri": "https://localhost:8080/"
        },
        "id": "iQE7QqKjWiE8",
        "outputId": "01feee5a-452b-4fd5-a5c3-3a6b80a28b23"
      },
      "execution_count": null,
      "outputs": [
        {
          "output_type": "stream",
          "name": "stdout",
          "text": [
            "hello\n",
            "Done!\n",
            "25\n"
          ]
        }
      ]
    },
    {
      "cell_type": "code",
      "source": [
        "def add_two_nums(a: int, b: int) -> int:\n",
        "          return a+b"
      ],
      "metadata": {
        "id": "wEqceP91WqZH"
      },
      "execution_count": null,
      "outputs": []
    },
    {
      "cell_type": "code",
      "source": [
        "add_two_nums(5, 6)"
      ],
      "metadata": {
        "colab": {
          "base_uri": "https://localhost:8080/"
        },
        "id": "HRTmuDzoYgWd",
        "outputId": "719edebf-73e5-4b16-c5a6-9a8e9e4d785c"
      },
      "execution_count": null,
      "outputs": [
        {
          "output_type": "execute_result",
          "data": {
            "text/plain": [
              "11"
            ]
          },
          "metadata": {},
          "execution_count": 30
        }
      ]
    },
    {
      "cell_type": "code",
      "source": [
        "# Work with string\n",
        "text = \"hello world\"\n",
        "\n",
        "long_text = \"\"\"this is a\n",
        "very long text\n",
        "this is a new line\"\"\"\n",
        "\n",
        "print(text)\n",
        "print(long_text)"
      ],
      "metadata": {
        "colab": {
          "base_uri": "https://localhost:8080/"
        },
        "id": "RdKmM8TjYl8h",
        "outputId": "b0ab1424-368f-49a8-acfd-71ed6f32129f"
      },
      "execution_count": null,
      "outputs": [
        {
          "output_type": "stream",
          "name": "stdout",
          "text": [
            "hello world\n",
            "this is a\n",
            "very long text\n",
            "this is a new line\n"
          ]
        }
      ]
    },
    {
      "cell_type": "code",
      "source": [
        "# string template : fstring\n",
        "my_name = \"John Wick\"\n",
        "location = \"London\"\n",
        "\n",
        "text = f\"Hi my name is {my_name} and is live in {location}.\"\n",
        "\n",
        "print(text)"
      ],
      "metadata": {
        "colab": {
          "base_uri": "https://localhost:8080/"
        },
        "id": "sirZ4U6oZorq",
        "outputId": "e03f36f7-ee4c-45fe-e13d-4f38bab460ab"
      },
      "execution_count": null,
      "outputs": [
        {
          "output_type": "stream",
          "name": "stdout",
          "text": [
            "Hi my name is John Wick and is live in London.\n"
          ]
        }
      ]
    },
    {
      "cell_type": "code",
      "source": [
        "text = \"a duck walks into a bar\"\n",
        "print(text)"
      ],
      "metadata": {
        "colab": {
          "base_uri": "https://localhost:8080/"
        },
        "id": "rf8Y3Poqayt_",
        "outputId": "29039560-5ffd-42bf-8490-7286fea7aff7"
      },
      "execution_count": null,
      "outputs": [
        {
          "output_type": "stream",
          "name": "stdout",
          "text": [
            "a duck walks into a bar\n"
          ]
        }
      ]
    },
    {
      "cell_type": "code",
      "source": [
        "# slicing, index starts with 0\n",
        "print(text[0], text[-1], text[22])"
      ],
      "metadata": {
        "colab": {
          "base_uri": "https://localhost:8080/"
        },
        "id": "K3NQISu8btDy",
        "outputId": "a241c456-5545-4800-b4e9-bdfa1fd97f67"
      },
      "execution_count": null,
      "outputs": [
        {
          "output_type": "stream",
          "name": "stdout",
          "text": [
            "a r r\n"
          ]
        }
      ]
    },
    {
      "cell_type": "code",
      "source": [
        "text"
      ],
      "metadata": {
        "colab": {
          "base_uri": "https://localhost:8080/",
          "height": 34
        },
        "id": "xyb6iLqPb8sO",
        "outputId": "4df70a12-631d-413a-cc97-b193ebe5ef80"
      },
      "execution_count": null,
      "outputs": [
        {
          "output_type": "execute_result",
          "data": {
            "text/plain": [
              "'a duck walks into a bar'"
            ],
            "application/vnd.google.colaboratory.intrinsic+json": {
              "type": "string"
            }
          },
          "metadata": {},
          "execution_count": 41
        }
      ]
    },
    {
      "cell_type": "code",
      "source": [
        "# up to, but not include\n",
        "text[-3: ]"
      ],
      "metadata": {
        "colab": {
          "base_uri": "https://localhost:8080/",
          "height": 34
        },
        "id": "5AhdeaK2gl44",
        "outputId": "45e47fe4-baf3-4682-99b7-c619e527c93c"
      },
      "execution_count": null,
      "outputs": [
        {
          "output_type": "execute_result",
          "data": {
            "text/plain": [
              "'bar'"
            ],
            "application/vnd.google.colaboratory.intrinsic+json": {
              "type": "string"
            }
          },
          "metadata": {},
          "execution_count": 45
        }
      ]
    },
    {
      "cell_type": "code",
      "source": [
        "# string is immutable\n",
        "name = \"Python\" # -> Cython\n",
        "name = \"C\" + name[1: ]\n",
        "\n",
        "print(name)"
      ],
      "metadata": {
        "colab": {
          "base_uri": "https://localhost:8080/"
        },
        "id": "ZdXkdJtlg1x4",
        "outputId": "c3fbc991-76a2-4b8a-b671-f471d70311e1"
      },
      "execution_count": null,
      "outputs": [
        {
          "output_type": "stream",
          "name": "stdout",
          "text": [
            "Cython\n"
          ]
        }
      ]
    },
    {
      "cell_type": "code",
      "source": [
        "text = \"a duck walks into a bar\""
      ],
      "metadata": {
        "id": "DfovdI9SkJit"
      },
      "execution_count": null,
      "outputs": []
    },
    {
      "cell_type": "code",
      "source": [
        "text = text.upper()\n",
        "print(text)"
      ],
      "metadata": {
        "colab": {
          "base_uri": "https://localhost:8080/"
        },
        "id": "V6VmqIYAkfpj",
        "outputId": "5127ff57-9a79-4ea8-d2d8-4688dd20283a"
      },
      "execution_count": null,
      "outputs": [
        {
          "output_type": "stream",
          "name": "stdout",
          "text": [
            "A DUCK WALKS INTO A BAR\n"
          ]
        }
      ]
    },
    {
      "cell_type": "code",
      "source": [
        "text.replace(\"duck\", \"lion\")"
      ],
      "metadata": {
        "colab": {
          "base_uri": "https://localhost:8080/",
          "height": 34
        },
        "id": "kRM_AbndlEIC",
        "outputId": "8275b125-4e54-44a0-af19-607e45b82a58"
      },
      "execution_count": null,
      "outputs": [
        {
          "output_type": "execute_result",
          "data": {
            "text/plain": [
              "'a lion walks into a bar'"
            ],
            "application/vnd.google.colaboratory.intrinsic+json": {
              "type": "string"
            }
          },
          "metadata": {},
          "execution_count": 70
        }
      ]
    },
    {
      "cell_type": "code",
      "source": [
        "words = text.split(\" \")\n",
        "print(words, type(words))"
      ],
      "metadata": {
        "colab": {
          "base_uri": "https://localhost:8080/"
        },
        "id": "1h4VphNGlcSg",
        "outputId": "9a2b3d1c-ee2c-4f3d-a6c5-cc46132a5250"
      },
      "execution_count": null,
      "outputs": [
        {
          "output_type": "stream",
          "name": "stdout",
          "text": [
            "['a', 'duck', 'walks', 'into', 'a', 'bar'] <class 'list'>\n"
          ]
        }
      ]
    },
    {
      "cell_type": "code",
      "source": [
        "\"-\".join(words)"
      ],
      "metadata": {
        "colab": {
          "base_uri": "https://localhost:8080/",
          "height": 34
        },
        "id": "ynBw1b1jmMw3",
        "outputId": "19a54cfc-a1f1-4f6b-e683-b365d4b69290"
      },
      "execution_count": null,
      "outputs": [
        {
          "output_type": "execute_result",
          "data": {
            "text/plain": [
              "'a-duck-walks-into-a-bar'"
            ],
            "application/vnd.google.colaboratory.intrinsic+json": {
              "type": "string"
            }
          },
          "metadata": {},
          "execution_count": 75
        }
      ]
    },
    {
      "cell_type": "code",
      "source": [
        "# method = function สร้างเพื่อ object\n",
        "# string methods\n",
        "# string is immutable(ไม่สามารถอัพเดตตัวแปรได้ นอกจากจะประกาศตัวแปรใหม่)"
      ],
      "metadata": {
        "id": "A1625CghmqCX"
      },
      "execution_count": null,
      "outputs": []
    },
    {
      "cell_type": "code",
      "source": [
        "# data structure\n",
        "# 1. list []\n",
        "# 2.tuple ()\n",
        "# 3. dictionary {}\n",
        "# 4. set {unique}"
      ],
      "metadata": {
        "id": "u-3ymNSl7crZ"
      },
      "execution_count": null,
      "outputs": []
    },
    {
      "cell_type": "code",
      "source": [
        "# 1. list is mutable\n",
        "shopping_items = [\"banana\", \"egg\", \"milks\"]\n",
        "shopping_items [0] = \"pineapple\"\n",
        "print(shopping_items[0])\n",
        "print(shopping_items[1])\n",
        "print(shopping_items[2])\n",
        "print( len(shopping_items))"
      ],
      "metadata": {
        "colab": {
          "base_uri": "https://localhost:8080/"
        },
        "id": "uFpdSNY_76Cf",
        "outputId": "728fb490-0000-459b-e06b-c24c92bcba50"
      },
      "execution_count": null,
      "outputs": [
        {
          "output_type": "stream",
          "name": "stdout",
          "text": [
            "pineapple\n",
            "egg\n",
            "milks\n",
            "3\n"
          ]
        }
      ]
    },
    {
      "cell_type": "code",
      "source": [
        "# list method\n",
        "shopping_items.append(\"milks\")\n",
        "print(shopping_items)"
      ],
      "metadata": {
        "colab": {
          "base_uri": "https://localhost:8080/"
        },
        "id": "5gn9X7_183Oo",
        "outputId": "c5f21503-b2ea-4271-ce72-6adee976af62"
      },
      "execution_count": null,
      "outputs": [
        {
          "output_type": "stream",
          "name": "stdout",
          "text": [
            "['pineapple', 'egg', 'milks', 'milks']\n"
          ]
        }
      ]
    },
    {
      "cell_type": "code",
      "source": [
        "# sort item  (ascending order  A-Z)\n",
        "shopping_items.sort(reverse=True)   #desending order Z-A\n",
        "print(shopping_items)"
      ],
      "metadata": {
        "colab": {
          "base_uri": "https://localhost:8080/"
        },
        "id": "S6YiRLHX-gg1",
        "outputId": "2acde0b4-8180-4993-e0a5-b2b600de98b9"
      },
      "execution_count": null,
      "outputs": [
        {
          "output_type": "stream",
          "name": "stdout",
          "text": [
            "['pineapple', 'milks', 'egg', 'coke']\n"
          ]
        }
      ]
    },
    {
      "cell_type": "code",
      "source": [
        "def mean(score):\n",
        "        return sum(score) / len(score)"
      ],
      "metadata": {
        "id": "73bVVJb0_yHu"
      },
      "execution_count": null,
      "outputs": []
    },
    {
      "cell_type": "code",
      "source": [
        "score = [92, 85, 74, 62, 50]\n",
        "print(len(score), sum(score),\n",
        "        min(score), max(score), mean(score))"
      ],
      "metadata": {
        "colab": {
          "base_uri": "https://localhost:8080/"
        },
        "id": "VaKfq3dK-vn-",
        "outputId": "ac45d84c-cddd-4de0-8747-025c96f21e5b"
      },
      "execution_count": null,
      "outputs": [
        {
          "output_type": "stream",
          "name": "stdout",
          "text": [
            "5 363 50 92 72.6\n"
          ]
        }
      ]
    },
    {
      "cell_type": "code",
      "source": [
        "# remove last item\n",
        "shopping_items.pop  # delete right\n",
        "shopping_items"
      ],
      "metadata": {
        "colab": {
          "base_uri": "https://localhost:8080/"
        },
        "id": "EgLpUrkRAibN",
        "outputId": "486d73a6-58df-4a9d-dccb-be95535286d1"
      },
      "execution_count": null,
      "outputs": [
        {
          "output_type": "execute_result",
          "data": {
            "text/plain": [
              "['pineapple', 'coke', 'egg']"
            ]
          },
          "metadata": {},
          "execution_count": 39
        }
      ]
    },
    {
      "cell_type": "code",
      "source": [
        "shopping_items.remove(\"egg\")\n",
        "shopping_items"
      ],
      "metadata": {
        "colab": {
          "base_uri": "https://localhost:8080/"
        },
        "id": "FKfcpTwCB8QT",
        "outputId": "73d45b40-408a-42b1-8643-f4ae123f3981"
      },
      "execution_count": null,
      "outputs": [
        {
          "output_type": "execute_result",
          "data": {
            "text/plain": [
              "['pineapple', 'coke']"
            ]
          },
          "metadata": {},
          "execution_count": 34
        }
      ]
    },
    {
      "cell_type": "code",
      "source": [
        "shopping_items.append(\"egg\")\n",
        "shopping_items"
      ],
      "metadata": {
        "colab": {
          "base_uri": "https://localhost:8080/"
        },
        "id": "OTRBepAxCmVG",
        "outputId": "2709d680-3873-423a-cf28-2186cb77a15b"
      },
      "execution_count": null,
      "outputs": [
        {
          "output_type": "execute_result",
          "data": {
            "text/plain": [
              "['pineapple', 'coke', 'egg']"
            ]
          },
          "metadata": {},
          "execution_count": 36
        }
      ]
    },
    {
      "cell_type": "code",
      "source": [
        "# insert()\n",
        "shopping_items.insert(2, \"milk\")"
      ],
      "metadata": {
        "id": "RlnxwRQRDDDs"
      },
      "execution_count": null,
      "outputs": []
    },
    {
      "cell_type": "code",
      "source": [
        "shopping_items"
      ],
      "metadata": {
        "colab": {
          "base_uri": "https://localhost:8080/"
        },
        "id": "H-g1nsXyDYpa",
        "outputId": "eb1fbb02-17c8-4595-c423-786c187bbd79"
      },
      "execution_count": null,
      "outputs": [
        {
          "output_type": "execute_result",
          "data": {
            "text/plain": [
              "['pineapple', 'egg', 'milk', 'milks', 'milks']"
            ]
          },
          "metadata": {},
          "execution_count": 46
        }
      ]
    },
    {
      "cell_type": "code",
      "source": [
        "# list + list\n",
        "item1 = [\"egg\", \"milk\"]\n",
        "item2 = [\"bread\", \"banana\"]\n",
        "\n",
        "print(item1 + item2)"
      ],
      "metadata": {
        "colab": {
          "base_uri": "https://localhost:8080/"
        },
        "id": "v8VO4nXpEfv8",
        "outputId": "cee64d0c-d712-49c6-86fe-5432ccac9895"
      },
      "execution_count": null,
      "outputs": [
        {
          "output_type": "stream",
          "name": "stdout",
          "text": [
            "['egg', 'milk', 'bread', 'banana']\n"
          ]
        }
      ]
    },
    {
      "cell_type": "code",
      "source": [
        "# tuple () is immutable\n",
        "tup_item = ('egg', 'banana', 'pepsi')\n",
        "tup_item"
      ],
      "metadata": {
        "colab": {
          "base_uri": "https://localhost:8080/"
        },
        "id": "OE101bAoFE3I",
        "outputId": "15e7d2b8-e8fe-4bd0-c1aa-d53858e86772"
      },
      "execution_count": null,
      "outputs": [
        {
          "output_type": "execute_result",
          "data": {
            "text/plain": [
              "('egg', 'banana', 'pepsi')"
            ]
          },
          "metadata": {},
          "execution_count": 48
        }
      ]
    },
    {
      "cell_type": "code",
      "source": [
        "tup_item.count('egg')"
      ],
      "metadata": {
        "colab": {
          "base_uri": "https://localhost:8080/"
        },
        "id": "UEtvHSqtFikj",
        "outputId": "21ba18ab-b40f-4658-98ef-8e37d6321be3"
      },
      "execution_count": null,
      "outputs": [
        {
          "output_type": "execute_result",
          "data": {
            "text/plain": [
              "1"
            ]
          },
          "metadata": {},
          "execution_count": 49
        }
      ]
    },
    {
      "cell_type": "code",
      "source": [
        "# user name + password\n",
        "# student1, student2\n",
        "s1 = (\"id001\", \"456789\")\n",
        "s2 = (\"id002\", \"123456\")\n",
        "user_pw = (s1, s2)\n",
        "\n",
        "print(user_pw)"
      ],
      "metadata": {
        "colab": {
          "base_uri": "https://localhost:8080/"
        },
        "id": "xc-iFCh4Ftni",
        "outputId": "4584feb4-2fdb-4b86-8f72-7b29415c01d2"
      },
      "execution_count": null,
      "outputs": [
        {
          "output_type": "stream",
          "name": "stdout",
          "text": [
            "(('id001', '456789'), ('id002', '123456'))\n"
          ]
        }
      ]
    },
    {
      "cell_type": "code",
      "source": [
        "# tuple unpacking\n",
        "username, password = s1\n",
        "\n",
        "print(username, password)"
      ],
      "metadata": {
        "colab": {
          "base_uri": "https://localhost:8080/"
        },
        "id": "IOT8Z3ICGXPP",
        "outputId": "c538049f-4ad1-4b59-f86b-97a811033469"
      },
      "execution_count": null,
      "outputs": [
        {
          "output_type": "stream",
          "name": "stdout",
          "text": [
            "id001 456789\n"
          ]
        }
      ]
    },
    {
      "cell_type": "code",
      "source": [
        "# tuple unpacking 3 value # _ ใส่แทนค่าตัวที่ไม่ต้องการ\n",
        "name, age, _ = (\"john wick\", 42, 3.98)\n",
        "print(name, age)"
      ],
      "metadata": {
        "colab": {
          "base_uri": "https://localhost:8080/"
        },
        "id": "qR3Na5emHFt7",
        "outputId": "a61c0df1-229a-4a79-d947-61e74b80d77a"
      },
      "execution_count": null,
      "outputs": [
        {
          "output_type": "stream",
          "name": "stdout",
          "text": [
            "john wick 42\n"
          ]
        }
      ]
    },
    {
      "cell_type": "code",
      "source": [
        "# set {unique}\n",
        "course = [\"python\", \"python\", \"R\", \"SQL\"]"
      ],
      "metadata": {
        "id": "3838UODgH2G7"
      },
      "execution_count": null,
      "outputs": []
    },
    {
      "cell_type": "code",
      "source": [
        "set(course)"
      ],
      "metadata": {
        "colab": {
          "base_uri": "https://localhost:8080/"
        },
        "id": "gdkUwAI5Iwsq",
        "outputId": "2f44621e-f142-4595-f464-85f10af6c335"
      },
      "execution_count": null,
      "outputs": [
        {
          "output_type": "execute_result",
          "data": {
            "text/plain": [
              "{'R', 'SQL', 'python'}"
            ]
          },
          "metadata": {},
          "execution_count": 57
        }
      ]
    },
    {
      "cell_type": "code",
      "source": [
        "# dictionary\n",
        "course = {\n",
        "    'name' : 'Data Science Bootcamp',\n",
        "    'duration' : '4 month',\n",
        "    'student' : 200,\n",
        "    'replay' : True,\n",
        "    'Skill' : ['Google Sheet', 'SQL', 'R', 'Python', 'Stats', 'ML', 'Dashborad', 'Data Tranformation']\n",
        "}"
      ],
      "metadata": {
        "id": "or5tfsKpI0j2"
      },
      "execution_count": null,
      "outputs": []
    },
    {
      "cell_type": "code",
      "source": [
        "course"
      ],
      "metadata": {
        "colab": {
          "base_uri": "https://localhost:8080/"
        },
        "id": "xaMj7nYuKaE2",
        "outputId": "8f6f75ca-c4f2-4957-a0ec-1a7bdc858844"
      },
      "execution_count": null,
      "outputs": [
        {
          "output_type": "execute_result",
          "data": {
            "text/plain": [
              "{'name': 'Data Science Bootcamp',\n",
              " 'duration': '4 month',\n",
              " 'student': 200,\n",
              " 'replay': True,\n",
              " 'Skill': ['Google Sheet',\n",
              "  'SQL',\n",
              "  'R',\n",
              "  'Python',\n",
              "  'Stats',\n",
              "  'ML',\n",
              "  'Dashborad',\n",
              "  'Data Tranformation']}"
            ]
          },
          "metadata": {},
          "execution_count": 63
        }
      ]
    },
    {
      "cell_type": "code",
      "source": [
        "course[\"Skill\"]"
      ],
      "metadata": {
        "colab": {
          "base_uri": "https://localhost:8080/"
        },
        "id": "ORcemn3RK66U",
        "outputId": "7bff16b6-4046-4b46-9dc6-eee38c4f235b"
      },
      "execution_count": null,
      "outputs": [
        {
          "output_type": "execute_result",
          "data": {
            "text/plain": [
              "['Google Sheet',\n",
              " 'SQL',\n",
              " 'R',\n",
              " 'Python',\n",
              " 'Stats',\n",
              " 'ML',\n",
              " 'Dashborad',\n",
              " 'Data Tranformation']"
            ]
          },
          "metadata": {},
          "execution_count": 64
        }
      ]
    },
    {
      "cell_type": "code",
      "source": [
        "#insert dict\n",
        "course[\"Start_Time\"] = \"9am\"\n",
        "\n",
        "course[\"language\"] = \"thai\""
      ],
      "metadata": {
        "id": "m_lPE0xZLLhy"
      },
      "execution_count": null,
      "outputs": []
    },
    {
      "cell_type": "code",
      "source": [
        "course"
      ],
      "metadata": {
        "colab": {
          "base_uri": "https://localhost:8080/"
        },
        "id": "Pv5tFBlJMChC",
        "outputId": "b7cfd8d1-c264-4004-f8bb-4b9e01cb8544"
      },
      "execution_count": null,
      "outputs": [
        {
          "output_type": "execute_result",
          "data": {
            "text/plain": [
              "{'name': 'Data Science Bootcamp',\n",
              " 'duration': '4 month',\n",
              " 'student': 200,\n",
              " 'replay': True,\n",
              " 'Skill': ['Google Sheet',\n",
              "  'SQL',\n",
              "  'R',\n",
              "  'Python',\n",
              "  'Stats',\n",
              "  'ML',\n",
              "  'Dashborad',\n",
              "  'Data Tranformation'],\n",
              " 'Start_Time': '9am',\n",
              " 'language': 'thai'}"
            ]
          },
          "metadata": {},
          "execution_count": 72
        }
      ]
    },
    {
      "cell_type": "code",
      "source": [
        "#delete dict\n",
        "del course[\"language\"]\n",
        "course"
      ],
      "metadata": {
        "colab": {
          "base_uri": "https://localhost:8080/"
        },
        "id": "9s3kJRZfMbLd",
        "outputId": "fc1ab71d-1ada-4e56-ee54-6bbcf963f2e1"
      },
      "execution_count": null,
      "outputs": [
        {
          "output_type": "execute_result",
          "data": {
            "text/plain": [
              "{'name': 'Data Science Bootcamp',\n",
              " 'duration': '4 month',\n",
              " 'student': 200,\n",
              " 'replay': True,\n",
              " 'Skill': ['Google Sheet',\n",
              "  'SQL',\n",
              "  'R',\n",
              "  'Python',\n",
              "  'Stats',\n",
              "  'ML',\n",
              "  'Dashborad',\n",
              "  'Data Tranformation'],\n",
              " 'Start_Time': '9am'}"
            ]
          },
          "metadata": {},
          "execution_count": 73
        }
      ]
    },
    {
      "cell_type": "code",
      "source": [
        "course['Skill'][0:3]"
      ],
      "metadata": {
        "colab": {
          "base_uri": "https://localhost:8080/"
        },
        "id": "QUdRU8jyMotE",
        "outputId": "f899d2b1-9b4e-454a-8dde-e0582c7759c7"
      },
      "execution_count": null,
      "outputs": [
        {
          "output_type": "execute_result",
          "data": {
            "text/plain": [
              "['Google Sheet', 'SQL', 'R']"
            ]
          },
          "metadata": {},
          "execution_count": 78
        }
      ]
    },
    {
      "cell_type": "code",
      "source": [
        "list( course.keys())"
      ],
      "metadata": {
        "colab": {
          "base_uri": "https://localhost:8080/"
        },
        "id": "LeQVnKKiNr_W",
        "outputId": "fc7c879e-5050-456d-8ad6-5e1d0f2342c1"
      },
      "execution_count": null,
      "outputs": [
        {
          "output_type": "execute_result",
          "data": {
            "text/plain": [
              "['name', 'duration', 'student', 'replay', 'Skill', 'Start_Time']"
            ]
          },
          "metadata": {},
          "execution_count": 79
        }
      ]
    },
    {
      "cell_type": "code",
      "source": [
        "list( course.values())"
      ],
      "metadata": {
        "colab": {
          "base_uri": "https://localhost:8080/"
        },
        "id": "tPMB0GnCOWUZ",
        "outputId": "562d524e-df4b-4e39-bfd2-8d26154b6ad3"
      },
      "execution_count": null,
      "outputs": [
        {
          "output_type": "execute_result",
          "data": {
            "text/plain": [
              "['Data Science Bootcamp',\n",
              " '4 month',\n",
              " 200,\n",
              " True,\n",
              " ['Google Sheet',\n",
              "  'SQL',\n",
              "  'R',\n",
              "  'Python',\n",
              "  'Stats',\n",
              "  'ML',\n",
              "  'Dashborad',\n",
              "  'Data Tranformation'],\n",
              " '9am']"
            ]
          },
          "metadata": {},
          "execution_count": 80
        }
      ]
    },
    {
      "cell_type": "code",
      "source": [
        "list( course.items())"
      ],
      "metadata": {
        "colab": {
          "base_uri": "https://localhost:8080/"
        },
        "id": "bCuUCvAkOb7F",
        "outputId": "01cb8e00-a71c-47e9-f1e6-574cee819aaa"
      },
      "execution_count": null,
      "outputs": [
        {
          "output_type": "execute_result",
          "data": {
            "text/plain": [
              "[('name', 'Data Science Bootcamp'),\n",
              " ('duration', '4 month'),\n",
              " ('student', 200),\n",
              " ('replay', True),\n",
              " ('Skill',\n",
              "  ['Google Sheet',\n",
              "   'SQL',\n",
              "   'R',\n",
              "   'Python',\n",
              "   'Stats',\n",
              "   'ML',\n",
              "   'Dashborad',\n",
              "   'Data Tranformation']),\n",
              " ('Start_Time', '9am')]"
            ]
          },
          "metadata": {},
          "execution_count": 81
        }
      ]
    },
    {
      "cell_type": "code",
      "source": [
        "course.get(\"replay\")"
      ],
      "metadata": {
        "colab": {
          "base_uri": "https://localhost:8080/"
        },
        "id": "vMeB9SzdOrqj",
        "outputId": "8d9b5b84-a81e-44b9-a65a-5798cc28cb0a"
      },
      "execution_count": null,
      "outputs": [
        {
          "output_type": "execute_result",
          "data": {
            "text/plain": [
              "True"
            ]
          },
          "metadata": {},
          "execution_count": 82
        }
      ]
    },
    {
      "cell_type": "code",
      "source": [
        "# control flow\n",
        "# if for while"
      ],
      "metadata": {
        "id": "I21DuScIO0sI"
      },
      "execution_count": null,
      "outputs": []
    },
    {
      "cell_type": "code",
      "source": [
        "def grade(score):\n",
        "      if score >=120 :\n",
        "        return \"Excellent\"\n",
        "      elif score >=100:\n",
        "        return \"Good\"\n",
        "      elif score >=80:\n",
        "        return \"Okay\"\n",
        "      else:\n",
        "        return \"Need t read more\"\n",
        "\n"
      ],
      "metadata": {
        "id": "bW-yE_aGPlyu"
      },
      "execution_count": null,
      "outputs": []
    },
    {
      "cell_type": "code",
      "source": [
        "result = grade(50)\n",
        "print(result)"
      ],
      "metadata": {
        "colab": {
          "base_uri": "https://localhost:8080/"
        },
        "id": "WolbAAejQPsV",
        "outputId": "f2aaa4b1-d5a5-43d0-e224-19c8d50b1a4a"
      },
      "execution_count": null,
      "outputs": [
        {
          "output_type": "stream",
          "name": "stdout",
          "text": [
            "Need t read more\n"
          ]
        }
      ]
    },
    {
      "cell_type": "code",
      "source": [
        "# use and, or in codition\n",
        "# course == data science, score >= 80 passed\n",
        "# course == english, score >= 70 passed\n",
        "def grade(course, score):\n",
        "  if course == \"english\" and score >= 70:\n",
        "    return \"passed\"\n",
        "  elif course == \"data science\" and score >= 80:\n",
        "    return \"passed\"\n",
        "  else:\n",
        "    return \"failed\""
      ],
      "metadata": {
        "id": "58hhQea8RH2z"
      },
      "execution_count": null,
      "outputs": []
    },
    {
      "cell_type": "code",
      "source": [
        "grade(\"english\", 80)"
      ],
      "metadata": {
        "colab": {
          "base_uri": "https://localhost:8080/",
          "height": 34
        },
        "id": "DIbUQvM8UjVj",
        "outputId": "c4bb4c3a-a063-42bc-9ed4-2a14219340b1"
      },
      "execution_count": null,
      "outputs": [
        {
          "output_type": "execute_result",
          "data": {
            "text/plain": [
              "'passed'"
            ],
            "application/vnd.google.colaboratory.intrinsic+json": {
              "type": "string"
            }
          },
          "metadata": {},
          "execution_count": 97
        }
      ]
    },
    {
      "cell_type": "code",
      "source": [
        "not True"
      ],
      "metadata": {
        "id": "Yr8BztxnVROi",
        "colab": {
          "base_uri": "https://localhost:8080/"
        },
        "outputId": "aeccc920-7bef-4e78-a627-12c3e2ddb02f"
      },
      "execution_count": 1,
      "outputs": [
        {
          "output_type": "execute_result",
          "data": {
            "text/plain": [
              "False"
            ]
          },
          "metadata": {},
          "execution_count": 1
        }
      ]
    },
    {
      "cell_type": "code",
      "source": [
        "# for loop\n",
        "#  if score >=80, passed\n",
        "def grading_all(scores):\n",
        "        new_scores = []\n",
        "        for score in scores:\n",
        "              new_scores.append(score+2)\n",
        "        return new_scores\n",
        "\n",
        "\n"
      ],
      "metadata": {
        "id": "mvW3PRY4JDUc"
      },
      "execution_count": 5,
      "outputs": []
    },
    {
      "cell_type": "code",
      "source": [
        "grading_all([75, 88, 90, 95, 52])"
      ],
      "metadata": {
        "colab": {
          "base_uri": "https://localhost:8080/"
        },
        "id": "BUFjObn1JiMi",
        "outputId": "cd454ec4-dec5-4364-f806-bc392c56856a"
      },
      "execution_count": 6,
      "outputs": [
        {
          "output_type": "execute_result",
          "data": {
            "text/plain": [
              "[77, 90, 92, 97, 54]"
            ]
          },
          "metadata": {},
          "execution_count": 6
        }
      ]
    },
    {
      "cell_type": "code",
      "source": [
        "# list comprehension\n",
        "scores = [75, 88, 90, 95, 52]"
      ],
      "metadata": {
        "id": "yTSW6nLJK5fm"
      },
      "execution_count": 13,
      "outputs": []
    },
    {
      "cell_type": "code",
      "source": [
        "new_scores = [s*2 for s in scores]\n",
        "new_scores"
      ],
      "metadata": {
        "colab": {
          "base_uri": "https://localhost:8080/"
        },
        "id": "kM9151oRL0pE",
        "outputId": "fadf1f37-bc48-4ff3-fa18-d9691b41a456"
      },
      "execution_count": 16,
      "outputs": [
        {
          "output_type": "execute_result",
          "data": {
            "text/plain": [
              "[150, 176, 180, 190, 104]"
            ]
          },
          "metadata": {},
          "execution_count": 16
        }
      ]
    },
    {
      "cell_type": "code",
      "source": [
        "# list comprehension\n",
        "friends = [\"toy\", \"ink\", \"bee\", \"zue\", \"yos\"]\n",
        "[ f.upper() for f in friends]"
      ],
      "metadata": {
        "colab": {
          "base_uri": "https://localhost:8080/"
        },
        "id": "gHhEVTe4MTRZ",
        "outputId": "df89655e-c648-4cb8-bcc6-6c970ea3618f"
      },
      "execution_count": 15,
      "outputs": [
        {
          "output_type": "execute_result",
          "data": {
            "text/plain": [
              "['TOY', 'INK', 'BEE', 'ZUE', 'YOS']"
            ]
          },
          "metadata": {},
          "execution_count": 15
        }
      ]
    },
    {
      "cell_type": "code",
      "source": [
        "# while loop\n",
        "count = 0\n",
        "\n",
        "while count < 5:\n",
        "      print(\"hello\")\n",
        "      count += 1"
      ],
      "metadata": {
        "colab": {
          "base_uri": "https://localhost:8080/"
        },
        "id": "i_On0VE5NKXH",
        "outputId": "61574f9f-a9c3-43f7-f73a-6003df32a43b"
      },
      "execution_count": 17,
      "outputs": [
        {
          "output_type": "stream",
          "name": "stdout",
          "text": [
            "hello\n",
            "hello\n",
            "hello\n",
            "hello\n",
            "hello\n"
          ]
        }
      ]
    },
    {
      "cell_type": "code",
      "source": [
        "# chatbot for fruit order\n",
        "user_name = input(\"What is your name? \")"
      ],
      "metadata": {
        "colab": {
          "base_uri": "https://localhost:8080/"
        },
        "id": "jPgYVjcuN68j",
        "outputId": "5ae6b717-e49d-44ca-f8a8-71b9fa00849b"
      },
      "execution_count": 19,
      "outputs": [
        {
          "name": "stdout",
          "output_type": "stream",
          "text": [
            "What is your name? John wick\n"
          ]
        }
      ]
    },
    {
      "cell_type": "code",
      "source": [
        "def chatbot():\n",
        "      fruits = []\n",
        "      while True:\n",
        "            fruit = input(\"What fruit do you want to order? \")\n",
        "            fruits.append(fruit)\n",
        "            if fruit == \"exit\":\n",
        "              return fruits\n",
        ""
      ],
      "metadata": {
        "id": "Hqwbu75eO3zC"
      },
      "execution_count": 28,
      "outputs": []
    },
    {
      "cell_type": "code",
      "source": [
        "chatbot ()"
      ],
      "metadata": {
        "colab": {
          "base_uri": "https://localhost:8080/"
        },
        "id": "l-4-jL4PPBSf",
        "outputId": "94972dc3-dca7-46a0-d81c-4705e92a5051"
      },
      "execution_count": 29,
      "outputs": [
        {
          "name": "stdout",
          "output_type": "stream",
          "text": [
            "What fruit do you want to order? gg\n",
            "What fruit do you want to order? dd\n",
            "What fruit do you want to order? ss\n",
            "What fruit do you want to order? exit\n"
          ]
        },
        {
          "output_type": "execute_result",
          "data": {
            "text/plain": [
              "['gg', 'dd', 'ss', 'exit']"
            ]
          },
          "metadata": {},
          "execution_count": 29
        }
      ]
    },
    {
      "cell_type": "code",
      "source": [
        "# oop - object oriented programing\n",
        "# dog class"
      ],
      "metadata": {
        "id": "5SkeT7C-P3wQ"
      },
      "execution_count": 30,
      "outputs": []
    },
    {
      "cell_type": "code",
      "source": [
        "class Dog:\n",
        "      def __init__(self, name, age, breed):\n",
        "          self.name = name\n",
        "          self.age = age\n",
        "          self.breed = breed"
      ],
      "metadata": {
        "id": "qQQHsI3MSB8I"
      },
      "execution_count": 41,
      "outputs": []
    },
    {
      "cell_type": "code",
      "source": [
        "dog1 = Dog(\"Oval\", 3, \"Chihuahua\")\n",
        "dog2 = Dog(\"Milo\", 4, \"bulldog\")\n",
        "dog3 = Dog(\"Pepsi\", 5, \"pug\")"
      ],
      "metadata": {
        "id": "4Hf2yyQfSPXA"
      },
      "execution_count": 42,
      "outputs": []
    },
    {
      "cell_type": "code",
      "source": [
        "dog1.name"
      ],
      "metadata": {
        "colab": {
          "base_uri": "https://localhost:8080/",
          "height": 34
        },
        "id": "MxGtx_7dSVLr",
        "outputId": "df0e7cec-fb6e-4016-dc6c-3f6cb3f4112a"
      },
      "execution_count": 40,
      "outputs": [
        {
          "output_type": "execute_result",
          "data": {
            "text/plain": [
              "'Oval'"
            ],
            "application/vnd.google.colaboratory.intrinsic+json": {
              "type": "string"
            }
          },
          "metadata": {},
          "execution_count": 40
        }
      ]
    },
    {
      "cell_type": "code",
      "source": [
        "print(dog1.name, dog1.age, dog1.breed)\n",
        "print(dog2.name, dog2.age, dog2.breed)\n",
        "print(dog3.name, dog3.age, dog3.breed)"
      ],
      "metadata": {
        "colab": {
          "base_uri": "https://localhost:8080/"
        },
        "id": "7eIjopvITTAl",
        "outputId": "f646287b-3461-416f-b144-0733f9ecdbab"
      },
      "execution_count": 45,
      "outputs": [
        {
          "output_type": "stream",
          "name": "stdout",
          "text": [
            "Oval 3 Chihuahua\n",
            "Milo 4 bulldog\n",
            "Pepsi 5 pug\n"
          ]
        }
      ]
    },
    {
      "cell_type": "code",
      "source": [
        "class Employee:\n",
        "        def __init__(self, id, name, dept, pos):\n",
        "          self.id = id\n",
        "          self.name = name\n",
        "          self.dept = dept\n",
        "          self.pos = pos\n",
        "        def hello(self):\n",
        "              print(f\"Hello! my name is {self.name}\")\n",
        "\n",
        "        def work_hours(self, hours):\n",
        "              print(f\"{self.name} work for {hours} hours.\")\n",
        "\n",
        "        def change_dept(self, new_dept):\n",
        "              self.dept = new_dept\n",
        "              print(f\"{self.dept} is now in {self.dept}.\")"
      ],
      "metadata": {
        "id": "cT90GYfcT3qe"
      },
      "execution_count": 72,
      "outputs": []
    },
    {
      "cell_type": "code",
      "source": [
        "emp1 = Employee(1, \"John\", \"finance\", \"Finacial Analyst\")"
      ],
      "metadata": {
        "id": "I3ZtN5i4VbGm"
      },
      "execution_count": 73,
      "outputs": []
    },
    {
      "cell_type": "code",
      "source": [
        "print(emp1.name, emp1.pos)"
      ],
      "metadata": {
        "colab": {
          "base_uri": "https://localhost:8080/"
        },
        "id": "JEQ1gyKlW4L2",
        "outputId": "5ea93695-c508-495a-efca-19d68833523b"
      },
      "execution_count": 75,
      "outputs": [
        {
          "output_type": "stream",
          "name": "stdout",
          "text": [
            "John Finacial Analyst\n"
          ]
        }
      ]
    },
    {
      "cell_type": "code",
      "source": [
        "emp1.hello()"
      ],
      "metadata": {
        "colab": {
          "base_uri": "https://localhost:8080/"
        },
        "id": "AOQR0rc1XHkb",
        "outputId": "b79786ca-bafb-4192-b5db-99e3853dffc7"
      },
      "execution_count": 70,
      "outputs": [
        {
          "output_type": "stream",
          "name": "stdout",
          "text": [
            "Hello! my name is John\n"
          ]
        }
      ]
    },
    {
      "cell_type": "code",
      "source": [
        "emp1.work_hours(10)"
      ],
      "metadata": {
        "colab": {
          "base_uri": "https://localhost:8080/"
        },
        "id": "NHhXc9wFXMB1",
        "outputId": "0a81212b-0d9a-43d6-b66a-31b0a91627f1"
      },
      "execution_count": 76,
      "outputs": [
        {
          "output_type": "stream",
          "name": "stdout",
          "text": [
            "John work for 10 hours.\n"
          ]
        }
      ]
    },
    {
      "cell_type": "code",
      "source": [
        "emp1.dept"
      ],
      "metadata": {
        "colab": {
          "base_uri": "https://localhost:8080/",
          "height": 34
        },
        "id": "Gvu0STrcYrGy",
        "outputId": "5cbd546b-8c86-42dd-b453-032bf55e67f6"
      },
      "execution_count": 77,
      "outputs": [
        {
          "output_type": "execute_result",
          "data": {
            "text/plain": [
              "'finance'"
            ],
            "application/vnd.google.colaboratory.intrinsic+json": {
              "type": "string"
            }
          },
          "metadata": {},
          "execution_count": 77
        }
      ]
    },
    {
      "cell_type": "code",
      "source": [
        "emp1.change_dept(\"Data Science\")"
      ],
      "metadata": {
        "colab": {
          "base_uri": "https://localhost:8080/"
        },
        "id": "JYO8K_DWZvLG",
        "outputId": "ab17799b-5550-4c98-c9fc-38fa4c8efa23"
      },
      "execution_count": 78,
      "outputs": [
        {
          "output_type": "stream",
          "name": "stdout",
          "text": [
            "Data Science is now in Data Science.\n"
          ]
        }
      ]
    },
    {
      "cell_type": "code",
      "source": [
        "emp1.dept"
      ],
      "metadata": {
        "colab": {
          "base_uri": "https://localhost:8080/",
          "height": 34
        },
        "id": "B-U8oQHXZ2Uo",
        "outputId": "b7f7af58-916d-4590-f22c-f529befca713"
      },
      "execution_count": 79,
      "outputs": [
        {
          "output_type": "execute_result",
          "data": {
            "text/plain": [
              "'Data Science'"
            ],
            "application/vnd.google.colaboratory.intrinsic+json": {
              "type": "string"
            }
          },
          "metadata": {},
          "execution_count": 79
        }
      ]
    },
    {
      "cell_type": "code",
      "source": [
        "class ATM:\n",
        "      def __init__(self, name, bank, balance):\n",
        "        self.name = name\n",
        "        self.bank = bank\n",
        "        self.balance = balance\n",
        "\n",
        "      def deposit(self, amt):\n",
        "            self.balance += amt\n",
        "\n",
        "scb = ATM(\"toy\", \"scb\", 500)\n",
        "print(scb.balance)\n",
        "\n",
        "scb.deposit(200)\n",
        "print(scb.balance)\n",
        ""
      ],
      "metadata": {
        "colab": {
          "base_uri": "https://localhost:8080/"
        },
        "id": "4OVaRshPZ_vP",
        "outputId": "3145d78d-8d37-41ca-8ac8-453b94c70294"
      },
      "execution_count": 82,
      "outputs": [
        {
          "output_type": "stream",
          "name": "stdout",
          "text": [
            "500\n",
            "700\n"
          ]
        }
      ]
    },
    {
      "cell_type": "code",
      "source": [],
      "metadata": {
        "id": "9bf_b1ihcdHv"
      },
      "execution_count": null,
      "outputs": []
    }
  ]
}